{
 "cells": [
  {
   "cell_type": "markdown",
   "metadata": {},
   "source": [
    "# 04. Pre User Study\n",
    "\n",
    "We conduct a pre user study to clarify what kinds of input users expect beforehand.\n",
    "\n",
    "The number of participants is three, and they are a student majoring in computer science.\n",
    "At first, they receive an explanation about V-NLI, V-XNLI and how to solve tasks.\n",
    "After that, they solve 15 tasks on Google Colab ([link to the notebook](https://drive.google.com/file/d/1RMKnsccrcpSx6rbkymVlE8-MT71zGVd6/view?usp=sharing)).\n",
    "While checking tabular data and a figure for each task, they provide the assumed input to V-XNLI.\n",
    "This procedure is almost the same setting as the final user study, but V-XNLI can't return any figure at this phase.\n",
    "Besides, in addition to the table and figure, we show the natural language query corresponding to them.\n",
    "Without the text, it is too hard because the participants can't use V-XNLI interactively.\n",
    "The table, figure and nl query are picked from nvBench dataset.\n",
    "\n",
    "The result is [here](https://docs.google.com/spreadsheets/d/1YoF0mjit-csET2Ql57lNMHqB07So6pgYIS2EsjRsw_0/edit?usp=sharing).\n",
    "The number of characters in V-XNLI is smaller then V-NLI by ~20% with V-XNLI.\n",
    "We admit this is a preliminary result. However, we expect V-XNLI can reduce the input cost of V-NLIs.\n",
    "Furthermore, we can see the actual user input patterns to some extent."
   ]
  }
 ],
 "metadata": {
  "kernelspec": {
   "display_name": "Python 3.9.13 ('.venv': poetry)",
   "language": "python",
   "name": "python3"
  },
  "language_info": {
   "codemirror_mode": {
    "name": "ipython",
    "version": 3
   },
   "file_extension": ".py",
   "mimetype": "text/x-python",
   "name": "python",
   "nbconvert_exporter": "python",
   "pygments_lexer": "ipython3",
   "version": "3.9.13"
  },
  "orig_nbformat": 4,
  "vscode": {
   "interpreter": {
    "hash": "63d5e78cacc7bbb3aa8f0f1cd8b8015c0d580cb8c6884f2092d527cf506d691b"
   }
  }
 },
 "nbformat": 4,
 "nbformat_minor": 2
}
